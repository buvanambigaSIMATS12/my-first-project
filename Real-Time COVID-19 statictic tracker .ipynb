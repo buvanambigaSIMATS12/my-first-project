{
  "nbformat": 4,
  "nbformat_minor": 0,
  "metadata": {
    "colab": {
      "provenance": [],
      "authorship_tag": "ABX9TyPKjR45guUN1STRdbcFdZC4",
      "include_colab_link": true
    },
    "kernelspec": {
      "name": "python3",
      "display_name": "Python 3"
    },
    "language_info": {
      "name": "python"
    }
  },
  "cells": [
    {
      "cell_type": "markdown",
      "metadata": {
        "id": "view-in-github",
        "colab_type": "text"
      },
      "source": [
        "<a href=\"https://colab.research.google.com/github/buvanambigaSIMATS12/my-first-project/blob/main/Real-Time%20COVID-19%20statictic%20tracker%20.ipynb\" target=\"_parent\"><img src=\"https://colab.research.google.com/assets/colab-badge.svg\" alt=\"Open In Colab\"/></a>"
      ]
    },
    {
      "cell_type": "code",
      "execution_count": 2,
      "metadata": {
        "colab": {
          "base_uri": "https://localhost:8080/"
        },
        "id": "NJFvOwlE6N0b",
        "outputId": "64111939-1720-4484-e364-52ba3d587f29"
      },
      "outputs": [
        {
          "output_type": "stream",
          "name": "stdout",
          "text": [
            "Enter the region (country, state, or city): india\n",
            "COVID-19 Statistics for India:\n",
            "Total Cases: 45035393\n",
            "Total Recoveries: 0\n",
            "Total Deaths: 533570\n"
          ]
        }
      ],
      "source": [
        "import requests\n",
        "\n",
        "def fetch_covid_data(region):\n",
        "    API_URL = f\"https://disease.sh/v3/covid-19/countries/{region}\"\n",
        "    response = make_api_call(API_URL)\n",
        "\n",
        "    if response.status_code == 200:\n",
        "        return response.json()\n",
        "    else:\n",
        "        return f\"Error fetching data: {response.status_code}\"\n",
        "\n",
        "def make_api_call(url):\n",
        "    headers = {\"Accept\": \"application/json\"}\n",
        "    return requests.get(url, headers=headers)\n",
        "\n",
        "def display_statistics(data):\n",
        "    print(f\"COVID-19 Statistics for {data['country']}:\")\n",
        "    print(f\"Total Cases: {data['cases']}\")\n",
        "    print(f\"Total Recoveries: {data['recovered']}\")\n",
        "    print(f\"Total Deaths: {data['deaths']}\")\n",
        "\n",
        "def main():\n",
        "    region = input(\"Enter the region (country, state, or city): \")\n",
        "    covid_data = fetch_covid_data(region)\n",
        "\n",
        "    if isinstance(covid_data, dict):\n",
        "        display_statistics(covid_data)\n",
        "    else:\n",
        "        print(covid_data)\n",
        "\n",
        "        import requests\n",
        "\n",
        "\n",
        "if __name__ == \"__main__\": # Fixed the typo here\n",
        "    main()\n"
      ]
    }
  ]
}